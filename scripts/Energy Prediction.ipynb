{
 "cells": [
  {
   "cell_type": "markdown",
   "id": "91da64a7",
   "metadata": {},
   "source": [
    "# Análise Preditiva de Consumo de Energia"
   ]
  },
  {
   "cell_type": "code",
   "execution_count": null,
   "id": "99f76579",
   "metadata": {},
   "outputs": [],
   "source": []
  }
 ],
 "metadata": {
  "language_info": {
   "name": "python"
  }
 },
 "nbformat": 4,
 "nbformat_minor": 5
}
